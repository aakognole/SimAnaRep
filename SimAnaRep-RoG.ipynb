{
 "cells": [
  {
   "cell_type": "code",
   "execution_count": 27,
   "metadata": {
    "collapsed": false
   },
   "outputs": [],
   "source": [
    "import MDAnalysis\n",
    "import matplotlib.pyplot as plt\n",
    "import numpy as np\n",
    "%matplotlib inline\n",
    "#from MDAnalysis import *\n",
    "#from MDAnalysis.analysis.align import *\n",
    "#from MDAnalysis.analysis.rms import rmsd\n",
    "\n",
    "#u = MDAnalysis.Universe('41wl_ff.psf','50_frame.dcd')\n",
    "#pdb = \"./41wl_ff.pdb\"\n",
    "#ref1 = u.trajectory.\n",
    "#ref = MDAnalysis.Universe('41wl_ff.psf','50_frame.dcd') "
   ]
  },
  {
   "cell_type": "code",
   "execution_count": 28,
   "metadata": {
    "collapsed": false
   },
   "outputs": [],
   "source": [
    "def Rgyr(u):\n",
    "    \"\"\"This function will plot Radius of gyration for a give universe (trajectory)\n",
    "    :input\n",
    "        universe: A universe with both PSF and DCD Files.\n",
    "    :return \n",
    "        1) matplotlib object for figure. \n",
    "        2) array with data. \n",
    "    \"\"\"\n",
    "    \n",
    "    Rgyr = []\n",
    "    protein = u.select_atoms(\"protein\")\n",
    "    for ts in u.trajectory:\n",
    "       Rgyr.append((u.trajectory.time, protein.radius_of_gyration()))\n",
    "    Rgyr = np.array(Rgyr)\n",
    "\n",
    "    #print Rgyr\n",
    "    #ax = plt.subplot(111)\n",
    "    ax.plot(Rgyr[:,0], Rgyr[:,1], 'r--', lw=2, label=r\"$R_G$\")\n",
    "    ax.set_title(\"Radius of Gyration\")\n",
    "    ax.set_xlabel(\"Time (ps)\")\n",
    "    ax.set_ylabel(r\"radius of gyration $R_G$ ($\\AA$)\")\n",
    "    #ax.figure.savefig(\"Rgyr.pdf\")\n",
    "    #plt.draw()\n",
    "    return  ax, Rgyr"
   ]
  },
  {
   "cell_type": "code",
   "execution_count": 30,
   "metadata": {
    "collapsed": false
   },
   "outputs": [
    {
     "name": "stdout",
     "output_type": "stream",
     "text": [
      "[[  0.          14.45947817]\n",
      " [  0.04888821  14.56343943]\n",
      " [  0.09777642  14.66004709]\n",
      " [  0.14666463  14.5950319 ]\n",
      " [  0.19555284  14.65924899]\n",
      " [  0.24444105  14.52109577]\n",
      " [  0.29332926  14.52496548]\n",
      " [  0.34221747  14.74254526]\n",
      " [  0.39110568  14.74876355]\n",
      " [  0.43999389  14.52289098]\n",
      " [  0.4888821   14.52560928]\n",
      " [  0.53777031  14.4352187 ]\n",
      " [  0.58665852  14.53671809]\n",
      " [  0.63554673  14.43235824]\n",
      " [  0.68443494  14.46688002]\n",
      " [  0.73332315  14.4705191 ]\n",
      " [  0.78221136  14.41274683]\n",
      " [  0.83109957  14.43789711]\n",
      " [  0.87998778  14.38424011]\n",
      " [  0.92887599  14.41613229]\n",
      " [  0.9777642   14.56441881]\n",
      " [  1.02665241  14.5337207 ]\n",
      " [  1.07554062  14.41597997]\n",
      " [  1.12442883  14.40583184]\n",
      " [  1.17331704  14.45525257]\n",
      " [  1.22220525  14.46460474]\n",
      " [  1.27109346  14.46638457]\n",
      " [  1.31998167  14.40691409]\n",
      " [  1.36886988  14.52930841]\n",
      " [  1.41775809  14.54878399]\n",
      " [  1.4666463   14.48549566]\n",
      " [  1.51553451  14.49806385]\n",
      " [  1.56442272  14.50785088]\n",
      " [  1.61331093  14.50795497]\n",
      " [  1.66219914  14.54129607]\n",
      " [  1.71108735  14.38962131]\n",
      " [  1.75997556  14.51879453]\n",
      " [  1.80886377  14.51302802]\n",
      " [  1.85775198  14.59042283]\n",
      " [  1.90664019  14.50376336]\n",
      " [  1.9555284   14.45130122]\n",
      " [  2.00441661  14.5705463 ]\n",
      " [  2.05330482  14.66729859]\n",
      " [  2.10219303  14.51986238]\n",
      " [  2.15108124  14.54526494]\n",
      " [  2.19996945  14.4653264 ]\n",
      " [  2.24885766  14.46804386]\n",
      " [  2.29774587  14.5561452 ]\n",
      " [  2.34663408  14.39166516]\n",
      " [  2.39552229  14.48221981]]\n"
     ]
    }
   ],
   "source": [
    "ProjectName='CECAM'\n",
    "u = MDAnalysis.Universe('41wl_ff.psf','50_frame.dcd')\n",
    "pdb = \"./41wl_ff.pdb\"\n",
    "#ref1 = u.trajectory.\n",
    "#ref = MDAnalysis.Universe('41wl_ff.psf','50_frame.dcd')\n",
    "\n",
    "fig, Rgyrdata = Rgyr(u)\n",
    "np.savetxt(ProjectName+)\n",
    "print Rgyrdata\n",
    "fig.figure.savefig(\"test.pdf\")"
   ]
  },
  {
   "cell_type": "code",
   "execution_count": 20,
   "metadata": {
    "collapsed": false
   },
   "outputs": [
    {
     "name": "stdout",
     "output_type": "stream",
     "text": [
      "[[  0.          14.45947817]\n",
      " [  0.04888821  14.56343943]\n",
      " [  0.09777642  14.66004709]\n",
      " [  0.14666463  14.5950319 ]\n",
      " [  0.19555284  14.65924899]\n",
      " [  0.24444105  14.52109577]\n",
      " [  0.29332926  14.52496548]\n",
      " [  0.34221747  14.74254526]\n",
      " [  0.39110568  14.74876355]\n",
      " [  0.43999389  14.52289098]\n",
      " [  0.4888821   14.52560928]\n",
      " [  0.53777031  14.4352187 ]\n",
      " [  0.58665852  14.53671809]\n",
      " [  0.63554673  14.43235824]\n",
      " [  0.68443494  14.46688002]\n",
      " [  0.73332315  14.4705191 ]\n",
      " [  0.78221136  14.41274683]\n",
      " [  0.83109957  14.43789711]\n",
      " [  0.87998778  14.38424011]\n",
      " [  0.92887599  14.41613229]\n",
      " [  0.9777642   14.56441881]\n",
      " [  1.02665241  14.5337207 ]\n",
      " [  1.07554062  14.41597997]\n",
      " [  1.12442883  14.40583184]\n",
      " [  1.17331704  14.45525257]\n",
      " [  1.22220525  14.46460474]\n",
      " [  1.27109346  14.46638457]\n",
      " [  1.31998167  14.40691409]\n",
      " [  1.36886988  14.52930841]\n",
      " [  1.41775809  14.54878399]\n",
      " [  1.4666463   14.48549566]\n",
      " [  1.51553451  14.49806385]\n",
      " [  1.56442272  14.50785088]\n",
      " [  1.61331093  14.50795497]\n",
      " [  1.66219914  14.54129607]\n",
      " [  1.71108735  14.38962131]\n",
      " [  1.75997556  14.51879453]\n",
      " [  1.80886377  14.51302802]\n",
      " [  1.85775198  14.59042283]\n",
      " [  1.90664019  14.50376336]\n",
      " [  1.9555284   14.45130122]\n",
      " [  2.00441661  14.5705463 ]\n",
      " [  2.05330482  14.66729859]\n",
      " [  2.10219303  14.51986238]\n",
      " [  2.15108124  14.54526494]\n",
      " [  2.19996945  14.4653264 ]\n",
      " [  2.24885766  14.46804386]\n",
      " [  2.29774587  14.5561452 ]\n",
      " [  2.34663408  14.39166516]\n",
      " [  2.39552229  14.48221981]]\n"
     ]
    },
    {
     "data": {
      "image/png": "[encoded data removed]",
      "text/plain": [
       "<matplotlib.figure.Figure at 0x7f8c930895d0>"
      ]
     },
     "metadata": {},
     "output_type": "display_data"
    }
   ],
   "source": [
    "u = MDAnalysis.Universe('41wl_ff.psf','50_frame.dcd')\n",
    "pdb = \"./41wl_ff.pdb\"\n",
    "#ref1 = u.trajectory.\n",
    "#ref = MDAnalysis.Universe('41wl_ff.psf','50_frame.dcd')\n",
    "\n",
    "Rgyrdata = Rgyr(u)\n",
    "print Rgyrdata"
   ]
  }
 ],
 "metadata": {
  "kernelspec": {
   "display_name": "Python 2",
   "language": "python",
   "name": "python2"
  },
  "language_info": {
   "codemirror_mode": {
    "name": "ipython",
    "version": 2
   },
   "file_extension": ".py",
   "mimetype": "text/x-python",
   "name": "python",
   "nbconvert_exporter": "python",
   "pygments_lexer": "ipython2",
   "version": "2.7.9"
  },
  "name": "SimAnaRep-RoG.ipynb"
 },
 "nbformat": 4,
 "nbformat_minor": 0
}

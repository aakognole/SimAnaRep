{
 "cells": [
  {
   "cell_type": "code",
   "execution_count": 27,
   "metadata": {
    "collapsed": false
   },
   "outputs": [],
   "source": [
    "import MDAnalysis\n",
    "import matplotlib.pyplot as plt\n",
    "import numpy as np\n",
    "%matplotlib inline"
   ]
  },
  {
   "cell_type": "code",
   "execution_count": 28,
   "metadata": {
    "collapsed": false
   },
   "outputs": [],
   "source": [
    "def Rgyr(u):\n",
    "    \"\"\"This function will plot Radius of gyration for a give universe (trajectory)\n",
    "    :input\n",
    "        universe: A universe with both PSF and DCD Files.\n",
    "    :return \n",
    "        1) matplotlib object for figure. \n",
    "        2) array with data. \n",
    "    \"\"\"\n",
    "    Rgyr = []\n",
    "    protein = u.select_atoms(\"protein\")\n",
    "    for ts in u.trajectory:\n",
    "       Rgyr.append((u.trajectory.time, protein.radius_of_gyration()))\n",
    "    Rgyr = np.array(Rgyr)\n",
    "\n",
    "    print Rgyr\n",
    "    ax = plt.subplot(111)\n",
    "    ax.plot(Rgyr[:,0], Rgyr[:,1], 'r--', lw=2, label=r\"$R_G$\")\n",
    "    ax.set_title(\"Radius of Gyration\")\n",
    "    ax.set_xlabel(\"Time (ps)\")\n",
    "    ax.set_ylabel(r\"radius of gyration $R_G$ ($\\AA$)\")\n",
    "    #ax.figure.savefig(\"Rgyr.pdf\")\n",
    "    plt.draw()\n",
    "    return  ax, Rgyr"
   ]
  },
  {
   "cell_type": "code",
   "execution_count": 2,
   "metadata": {
    "collapsed": false
   },
   "outputs": [
    {
     "ename": "NameError",
     "evalue": "name 'MDAnalysis' is not defined",
     "output_type": "error",
     "traceback": [
      "\u001b[1;31m---------------------------------------------------------------------------\u001b[0m",
      "\u001b[1;31mNameError\u001b[0m                                 Traceback (most recent call last)",
      "\u001b[1;32m<ipython-input-2-79efd0199213>\u001b[0m in \u001b[0;36m<module>\u001b[1;34m()\u001b[0m\n\u001b[0;32m      1\u001b[0m \u001b[0mtrj\u001b[0m \u001b[1;33m=\u001b[0m \u001b[1;34m'50_frame.dcd'\u001b[0m\u001b[1;33m\u001b[0m\u001b[0m\n\u001b[0;32m      2\u001b[0m \u001b[0mtop\u001b[0m \u001b[1;33m=\u001b[0m \u001b[1;34m'./41wl_ff.psf'\u001b[0m\u001b[1;33m\u001b[0m\u001b[0m\n\u001b[1;32m----> 3\u001b[1;33m \u001b[0mu\u001b[0m \u001b[1;33m=\u001b[0m \u001b[0mMDAnalysis\u001b[0m\u001b[1;33m.\u001b[0m\u001b[0mUniverse\u001b[0m\u001b[1;33m(\u001b[0m\u001b[0mtop\u001b[0m\u001b[1;33m,\u001b[0m \u001b[0mtrj\u001b[0m\u001b[1;33m)\u001b[0m\u001b[1;33m\u001b[0m\u001b[0m\n\u001b[0m\u001b[0;32m      4\u001b[0m \u001b[0mfig\u001b[0m\u001b[1;33m,\u001b[0m \u001b[0mRgyrdata\u001b[0m \u001b[1;33m=\u001b[0m \u001b[0mRgyr\u001b[0m\u001b[1;33m(\u001b[0m\u001b[0mu\u001b[0m\u001b[1;33m)\u001b[0m\u001b[1;33m\u001b[0m\u001b[0m\n\u001b[0;32m      5\u001b[0m \u001b[0mnp\u001b[0m\u001b[1;33m.\u001b[0m\u001b[0msavetxt\u001b[0m\u001b[1;33m(\u001b[0m\u001b[0margs\u001b[0m\u001b[1;33m.\u001b[0m\u001b[0mjobname\u001b[0m\u001b[1;33m+\u001b[0m\u001b[1;34m\"-RoG.data\"\u001b[0m\u001b[1;33m,\u001b[0m \u001b[0mRgyrdata\u001b[0m\u001b[1;33m)\u001b[0m\u001b[1;33m\u001b[0m\u001b[0m\n",
      "\u001b[1;31mNameError\u001b[0m: name 'MDAnalysis' is not defined"
     ]
    }
   ],
   "source": [
    "trj = '50_frame.dcd'\n",
    "top = './41wl_ff.psf'\n",
    "u = MDAnalysis.Universe(top, trj)\n",
    "fig, Rgyrdata = Rgyr(u)\n",
    "np.savetxt(args.jobname+\"-RoG.data\", Rgyrdata)\n",
    "    #print Rgyrdata\n",
    "fig.figure.savefig(args.jobname+\"-RoG.pdf\")"
   ]
  }
 ],
 "metadata": {
  "kernelspec": {
   "display_name": "Python 2",
   "language": "python",
   "name": "python2"
  },
  "language_info": {
   "codemirror_mode": {
    "name": "ipython",
    "version": 2
   },
   "file_extension": ".py",
   "mimetype": "text/x-python",
   "name": "python",
   "nbconvert_exporter": "python",
   "pygments_lexer": "ipython2",
   "version": "2.7.9"
  },
  "name": "SimAnaRep-RoG.ipynb"
 },
 "nbformat": 4,
 "nbformat_minor": 0
}

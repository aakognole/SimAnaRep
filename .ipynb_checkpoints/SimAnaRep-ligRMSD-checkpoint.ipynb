{
 "cells": [
  {
   "cell_type": "code",
   "execution_count": null,
   "metadata": {
    "collapsed": true
   },
   "outputs": [],
   "source": [
    "import MDAnalysis\n",
    "import matplotlib.pyplot as plt\n",
    "import numpy as np\n",
    "from MDAnalysis.analysis.align import *\n",
    "from MDAnalysis.analysis.rms import rmsd\n",
    "%matplotlib inline"
   ]
  },
  {
   "cell_type": "code",
   "execution_count": null,
   "metadata": {
    "collapsed": true
   },
   "outputs": [],
   "source": []
  },
  {
   "cell_type": "code",
   "execution_count": null,
   "metadata": {
    "collapsed": false
   },
   "outputs": [],
   "source": [
    "import numpy as np\n",
    "RMSD_lig = []\n",
    "ligand = u.select_atoms(\"(resid 142:146) and not name H*\") ## include selection based on user description\n",
    "#current = u.select_atoms(\"segname BGLC and not name H*\")\n",
    "reference = ref.select_atoms(\"(resid 142:146) and not name H*\")\n",
    "for ts in u.trajectory:\n",
    "    A = ligand.coordinates()\n",
    "    B = reference.coordinates()\n",
    "    C = rmsd(A,B)\n",
    "    RMSD_lig.append((u.trajectory.frame, C))\n",
    "RMSD_lig = np.array(RMSD_lig)\n",
    "print RMSD_lig\n",
    "import matplotlib.pyplot as plt\n",
    "ax = plt.subplot(111)\n",
    "ax.plot(RMSD_lig[:,0], RMSD_lig[:,1], 'r--', lw=2, label=r\"$R_G$\")\n",
    "ax.set_xlabel(\"Frame\")\n",
    "ax.set_ylabel(r\"RMSD of ligand ($\\AA$)\")\n",
    "ax.figure.savefig(\"RMSD_ligand.pdf\")\n",
    "plt.draw()"
   ]
  }
 ],
 "metadata": {
  "kernelspec": {
   "display_name": "Python 2",
   "language": "python",
   "name": "python2"
  },
  "language_info": {
   "codemirror_mode": {
    "name": "ipython",
    "version": 2
   },
   "file_extension": ".py",
   "mimetype": "text/x-python",
   "name": "python",
   "nbconvert_exporter": "python",
   "pygments_lexer": "ipython2",
   "version": "2.7.9"
  },
  "name": "SimAnaRep-ligRMSD.ipynb"
 },
 "nbformat": 4,
 "nbformat_minor": 0
}
